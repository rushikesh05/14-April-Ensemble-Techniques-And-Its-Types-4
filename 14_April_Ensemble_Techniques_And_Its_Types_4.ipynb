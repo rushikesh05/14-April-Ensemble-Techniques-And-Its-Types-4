{
  "nbformat": 4,
  "nbformat_minor": 0,
  "metadata": {
    "colab": {
      "provenance": []
    },
    "kernelspec": {
      "name": "python3",
      "display_name": "Python 3"
    },
    "language_info": {
      "name": "python"
    }
  },
  "cells": [
    {
      "cell_type": "markdown",
      "source": [
        "##Q1. Preprocess the dataset by handling missing values, encoding categorical variables, and scaling the numerical features if necessary."
      ],
      "metadata": {
        "id": "DymtkqK8Pya0"
      }
    },
    {
      "cell_type": "code",
      "execution_count": 1,
      "metadata": {
        "id": "W977n-OlEadC"
      },
      "outputs": [],
      "source": [
        "# Import necessary libraries\n",
        "import pandas as pd\n",
        "from sklearn.preprocessing import LabelEncoder, StandardScaler\n",
        "from sklearn.impute import SimpleImputer\n",
        "from sklearn.compose import ColumnTransformer\n",
        "from sklearn.pipeline import Pipeline\n",
        "\n",
        "# Load the dataset\n",
        "url = 'https://drive.google.com/file/d/1bGoIE4Z2kG5nyh-fGZAJ7LH0ki3UfmSJ/view?usp=sharing'\n",
        "file_id = url.split('/')[-2]\n",
        "dwn_url = 'https://drive.google.com/uc?id=' + file_id\n",
        "df = pd.read_csv(dwn_url)\n",
        "\n",
        "# Handle missing values\n",
        "imputer = SimpleImputer(strategy='mean')\n",
        "df = pd.DataFrame(imputer.fit_transform(df), columns=df.columns)\n",
        "\n",
        "# Encode categorical variables\n",
        "encoder = LabelEncoder()\n",
        "df['sex'] = encoder.fit_transform(df['sex'])\n",
        "df['cp'] = encoder.fit_transform(df['cp'])\n",
        "df['fbs'] = encoder.fit_transform(df['fbs'])\n",
        "df['restecg'] = encoder.fit_transform(df['restecg'])\n",
        "df['exang'] = encoder.fit_transform(df['exang'])\n",
        "df['slope'] = encoder.fit_transform(df['slope'])\n",
        "df['ca'] = encoder.fit_transform(df['ca'])\n",
        "df['thal'] = encoder.fit_transform(df['thal'])\n",
        "\n",
        "# Scale numerical features\n",
        "scaler = StandardScaler()\n",
        "num_cols = ['age', 'trestbps', 'chol', 'thalach', 'oldpeak']\n",
        "ct = ColumnTransformer(transformers=[('scaling', scaler, num_cols)], remainder='passthrough')\n",
        "df = pd.DataFrame(ct.fit_transform(df), columns=df.columns)\n"
      ]
    },
    {
      "cell_type": "markdown",
      "source": [
        "##Q2. Split the dataset into a training set (70%) and a test set (30%)."
      ],
      "metadata": {
        "id": "wyfmVR3PP9QM"
      }
    },
    {
      "cell_type": "code",
      "source": [
        "from sklearn.model_selection import train_test_split\n",
        "\n",
        "X = df.drop('target', axis=1)\n",
        "y = df['target']\n",
        "\n",
        "X_train, X_test, y_train, y_test = train_test_split(X, y, test_size=0.3, random_state=42)\n"
      ],
      "metadata": {
        "id": "MMFWcr9GPvpw"
      },
      "execution_count": 2,
      "outputs": []
    },
    {
      "cell_type": "markdown",
      "source": [
        "##Q3. Train a random forest classifier on the training set using 100 trees and a maximum depth of 10 for each tree. Use the default values for other hyperparameters."
      ],
      "metadata": {
        "id": "QVcjm5LpP-T8"
      }
    },
    {
      "cell_type": "code",
      "source": [
        "from sklearn.ensemble import RandomForestClassifier\n",
        "\n",
        "# Train the random forest classifier\n",
        "rfc = RandomForestClassifier(n_estimators=100, max_depth=10, random_state=42)\n",
        "rfc.fit(X_train, y_train)\n"
      ],
      "metadata": {
        "colab": {
          "base_uri": "https://localhost:8080/",
          "height": 74
        },
        "id": "JHer8LRbP7_H",
        "outputId": "32949e30-68c8-403d-f1e3-afcbda732422"
      },
      "execution_count": 3,
      "outputs": [
        {
          "output_type": "execute_result",
          "data": {
            "text/plain": [
              "RandomForestClassifier(max_depth=10, random_state=42)"
            ],
            "text/html": [
              "<style>#sk-container-id-1 {color: black;background-color: white;}#sk-container-id-1 pre{padding: 0;}#sk-container-id-1 div.sk-toggleable {background-color: white;}#sk-container-id-1 label.sk-toggleable__label {cursor: pointer;display: block;width: 100%;margin-bottom: 0;padding: 0.3em;box-sizing: border-box;text-align: center;}#sk-container-id-1 label.sk-toggleable__label-arrow:before {content: \"▸\";float: left;margin-right: 0.25em;color: #696969;}#sk-container-id-1 label.sk-toggleable__label-arrow:hover:before {color: black;}#sk-container-id-1 div.sk-estimator:hover label.sk-toggleable__label-arrow:before {color: black;}#sk-container-id-1 div.sk-toggleable__content {max-height: 0;max-width: 0;overflow: hidden;text-align: left;background-color: #f0f8ff;}#sk-container-id-1 div.sk-toggleable__content pre {margin: 0.2em;color: black;border-radius: 0.25em;background-color: #f0f8ff;}#sk-container-id-1 input.sk-toggleable__control:checked~div.sk-toggleable__content {max-height: 200px;max-width: 100%;overflow: auto;}#sk-container-id-1 input.sk-toggleable__control:checked~label.sk-toggleable__label-arrow:before {content: \"▾\";}#sk-container-id-1 div.sk-estimator input.sk-toggleable__control:checked~label.sk-toggleable__label {background-color: #d4ebff;}#sk-container-id-1 div.sk-label input.sk-toggleable__control:checked~label.sk-toggleable__label {background-color: #d4ebff;}#sk-container-id-1 input.sk-hidden--visually {border: 0;clip: rect(1px 1px 1px 1px);clip: rect(1px, 1px, 1px, 1px);height: 1px;margin: -1px;overflow: hidden;padding: 0;position: absolute;width: 1px;}#sk-container-id-1 div.sk-estimator {font-family: monospace;background-color: #f0f8ff;border: 1px dotted black;border-radius: 0.25em;box-sizing: border-box;margin-bottom: 0.5em;}#sk-container-id-1 div.sk-estimator:hover {background-color: #d4ebff;}#sk-container-id-1 div.sk-parallel-item::after {content: \"\";width: 100%;border-bottom: 1px solid gray;flex-grow: 1;}#sk-container-id-1 div.sk-label:hover label.sk-toggleable__label {background-color: #d4ebff;}#sk-container-id-1 div.sk-serial::before {content: \"\";position: absolute;border-left: 1px solid gray;box-sizing: border-box;top: 0;bottom: 0;left: 50%;z-index: 0;}#sk-container-id-1 div.sk-serial {display: flex;flex-direction: column;align-items: center;background-color: white;padding-right: 0.2em;padding-left: 0.2em;position: relative;}#sk-container-id-1 div.sk-item {position: relative;z-index: 1;}#sk-container-id-1 div.sk-parallel {display: flex;align-items: stretch;justify-content: center;background-color: white;position: relative;}#sk-container-id-1 div.sk-item::before, #sk-container-id-1 div.sk-parallel-item::before {content: \"\";position: absolute;border-left: 1px solid gray;box-sizing: border-box;top: 0;bottom: 0;left: 50%;z-index: -1;}#sk-container-id-1 div.sk-parallel-item {display: flex;flex-direction: column;z-index: 1;position: relative;background-color: white;}#sk-container-id-1 div.sk-parallel-item:first-child::after {align-self: flex-end;width: 50%;}#sk-container-id-1 div.sk-parallel-item:last-child::after {align-self: flex-start;width: 50%;}#sk-container-id-1 div.sk-parallel-item:only-child::after {width: 0;}#sk-container-id-1 div.sk-dashed-wrapped {border: 1px dashed gray;margin: 0 0.4em 0.5em 0.4em;box-sizing: border-box;padding-bottom: 0.4em;background-color: white;}#sk-container-id-1 div.sk-label label {font-family: monospace;font-weight: bold;display: inline-block;line-height: 1.2em;}#sk-container-id-1 div.sk-label-container {text-align: center;}#sk-container-id-1 div.sk-container {/* jupyter's `normalize.less` sets `[hidden] { display: none; }` but bootstrap.min.css set `[hidden] { display: none !important; }` so we also need the `!important` here to be able to override the default hidden behavior on the sphinx rendered scikit-learn.org. See: https://github.com/scikit-learn/scikit-learn/issues/21755 */display: inline-block !important;position: relative;}#sk-container-id-1 div.sk-text-repr-fallback {display: none;}</style><div id=\"sk-container-id-1\" class=\"sk-top-container\"><div class=\"sk-text-repr-fallback\"><pre>RandomForestClassifier(max_depth=10, random_state=42)</pre><b>In a Jupyter environment, please rerun this cell to show the HTML representation or trust the notebook. <br />On GitHub, the HTML representation is unable to render, please try loading this page with nbviewer.org.</b></div><div class=\"sk-container\" hidden><div class=\"sk-item\"><div class=\"sk-estimator sk-toggleable\"><input class=\"sk-toggleable__control sk-hidden--visually\" id=\"sk-estimator-id-1\" type=\"checkbox\" checked><label for=\"sk-estimator-id-1\" class=\"sk-toggleable__label sk-toggleable__label-arrow\">RandomForestClassifier</label><div class=\"sk-toggleable__content\"><pre>RandomForestClassifier(max_depth=10, random_state=42)</pre></div></div></div></div></div>"
            ]
          },
          "metadata": {},
          "execution_count": 3
        }
      ]
    },
    {
      "cell_type": "markdown",
      "source": [
        "##Q4. Evaluate the performance of the model on the test set using accuracy, precision, recall, and F1 score."
      ],
      "metadata": {
        "id": "gOLLV9utQIuD"
      }
    },
    {
      "cell_type": "code",
      "source": [
        "from sklearn.metrics import accuracy_score, precision_score, recall_score, f1_score\n",
        "\n",
        "# Make predictions on the test set\n",
        "y_pred = rfc.predict(X_test)\n",
        "\n",
        "# Calculate evaluation metrics\n",
        "accuracy = accuracy_score(y_test, y_pred)\n",
        "precision = precision_score(y_test, y_pred)\n",
        "recall = recall_score(y_test, y_pred)\n",
        "f1 = f1_score(y_test, y_pred)\n",
        "\n",
        "print(f'Accuracy: {accuracy:.2f}')\n",
        "print(f'Precision: {precision:.2f}')\n",
        "print(f'Recall: {recall:.2f}')\n",
        "print(f'F1 Score: {f1:.2f}')\n"
      ],
      "metadata": {
        "colab": {
          "base_uri": "https://localhost:8080/"
        },
        "id": "zbJQkvgSQFfy",
        "outputId": "a4159263-023e-4734-da49-f06fbe9800e0"
      },
      "execution_count": 4,
      "outputs": [
        {
          "output_type": "stream",
          "name": "stdout",
          "text": [
            "Accuracy: 0.82\n",
            "Precision: 0.83\n",
            "Recall: 0.86\n",
            "F1 Score: 0.84\n"
          ]
        }
      ]
    },
    {
      "cell_type": "markdown",
      "source": [
        "##Q5. Use the feature importance scores to identify the top 5 most important features in predicting heart disease risk. Visualise the feature importances using a bar chart."
      ],
      "metadata": {
        "id": "r4clSmywQRt_"
      }
    },
    {
      "cell_type": "code",
      "source": [
        "import matplotlib.pyplot as plt\n",
        "\n",
        "# Get feature importances from the trained model\n",
        "importances = rfc.feature_importances_\n",
        "feature_names = X_train.columns\n",
        "\n",
        "# Sort feature importances in descending order\n",
        "indices = importances.argsort()[::-1]\n",
        "\n",
        "# Get top 5 most important features\n",
        "top_features = [feature_names[i] for i in indices[:5]]\n",
        "top_importances = importances[indices][:5]\n",
        "\n",
        "# Visualize feature importances using a bar chart\n",
        "plt.figure(figsize=(10, 5))\n",
        "plt.title('Top 5 Most Important Features')\n",
        "plt.bar(range(len(top_features)), top_importances, align='center')\n",
        "plt.xticks(range(len(top_features)), top_features, rotation=45, ha='right')\n",
        "plt.xlabel('Features')\n",
        "plt.ylabel('Importance')\n",
        "plt.show()\n"
      ],
      "metadata": {
        "colab": {
          "base_uri": "https://localhost:8080/",
          "height": 523
        },
        "id": "iBbcVyEaQN2U",
        "outputId": "1db7f325-38b1-4a06-ed57-08c5369f29a8"
      },
      "execution_count": 5,
      "outputs": [
        {
          "output_type": "display_data",
          "data": {
            "text/plain": [
              "<Figure size 1000x500 with 1 Axes>"
            ],
            "image/png": "[encoded data removed]"
          },
          "metadata": {}
        }
      ]
    },
    {
      "cell_type": "markdown",
      "source": [
        "##Q6. Tune the hyperparameters of the random forest classifier using grid search or random search. Try different values of the number of trees, maximum depth, minimum samples split, and minimum samples leaf. Use 5-fold cross-validation to evaluate the performance of each set of hyperparameters."
      ],
      "metadata": {
        "id": "Liy6pSv5Qe4z"
      }
    },
    {
      "cell_type": "code",
      "source": [
        "from sklearn.model_selection import GridSearchCV\n",
        "\n",
        "# Define the parameter grid to search over\n",
        "param_grid = {\n",
        "    'n_estimators': [50, 100, 200],\n",
        "    'max_depth': [5, 10, 15],\n",
        "    'min_samples_split': [2, 5, 10],\n",
        "    'min_samples_leaf': [1, 2, 4]\n",
        "}\n",
        "\n",
        "# Perform a grid search with 5-fold cross-validation\n",
        "rfc_grid = RandomForestClassifier(random_state=42)\n",
        "grid_search = GridSearchCV(rfc_grid, param_grid=param_grid, cv=5)\n",
        "grid_search.fit(X_train, y_train)\n",
        "\n",
        "# Print the best hyperparameters and corresponding evaluation metrics\n",
        "print(f'Best hyperparameters: {grid_search.best_params_}')\n",
        "print(f'Best evaluation score: {grid_search.best_score_:.2f}')\n"
      ],
      "metadata": {
        "colab": {
          "base_uri": "https://localhost:8080/"
        },
        "id": "kinkyH-OQXQj",
        "outputId": "22a8fab5-1461-4066-d063-fb40453d4ece"
      },
      "execution_count": 6,
      "outputs": [
        {
          "output_type": "stream",
          "name": "stdout",
          "text": [
            "Best hyperparameters: {'max_depth': 5, 'min_samples_leaf': 2, 'min_samples_split': 2, 'n_estimators': 100}\n",
            "Best evaluation score: 0.83\n"
          ]
        }
      ]
    },
    {
      "cell_type": "markdown",
      "source": [
        "##Q7. Report the best set of hyperparameters found by the search and the corresponding performance metrics. Compare the performance of the tuned model with the default model."
      ],
      "metadata": {
        "id": "VdgJ4X4BQs3t"
      }
    },
    {
      "cell_type": "code",
      "source": [
        "from sklearn.metrics import classification_report\n",
        "\n",
        "# Train a random forest classifier with the best hyperparameters found by the grid search\n",
        "rfc_tuned = RandomForestClassifier(max_depth=5, min_samples_leaf=2, min_samples_split=2, n_estimators=100, random_state=42)\n",
        "rfc_tuned.fit(X_train, y_train)\n",
        "\n",
        "# Evaluate the performance of the tuned model on the test set\n",
        "y_pred_tuned = rfc_tuned.predict(X_test)\n",
        "print('Tuned model performance metrics:')\n",
        "print(classification_report(y_test, y_pred_tuned))\n",
        "\n",
        "# Evaluate the performance of the default model on the test set\n",
        "y_pred_default = rfc.predict(X_test)\n",
        "print('Default model performance metrics:')\n",
        "print(classification_report(y_test, y_pred_default))\n"
      ],
      "metadata": {
        "colab": {
          "base_uri": "https://localhost:8080/"
        },
        "id": "aKf9RMjWQkmq",
        "outputId": "d22b96c6-2328-44ed-ddd1-c87cb035f7f1"
      },
      "execution_count": 7,
      "outputs": [
        {
          "output_type": "stream",
          "name": "stdout",
          "text": [
            "Tuned model performance metrics:\n",
            "              precision    recall  f1-score   support\n",
            "\n",
            "         0.0       0.85      0.80      0.83        41\n",
            "         1.0       0.85      0.88      0.86        50\n",
            "\n",
            "    accuracy                           0.85        91\n",
            "   macro avg       0.85      0.84      0.84        91\n",
            "weighted avg       0.85      0.85      0.85        91\n",
            "\n",
            "Default model performance metrics:\n",
            "              precision    recall  f1-score   support\n",
            "\n",
            "         0.0       0.82      0.78      0.80        41\n",
            "         1.0       0.83      0.86      0.84        50\n",
            "\n",
            "    accuracy                           0.82        91\n",
            "   macro avg       0.82      0.82      0.82        91\n",
            "weighted avg       0.82      0.82      0.82        91\n",
            "\n"
          ]
        }
      ]
    },
    {
      "cell_type": "markdown",
      "source": [
        "##Q8. Interpret the model by analysing the decision boundaries of the random forest classifier. Plot the decision boundaries on a scatter plot of two of the most important features. Discuss the insights and limitations of the model for predicting heart disease risk."
      ],
      "metadata": {
        "id": "a2tQiTd7RLyz"
      }
    },
    {
      "cell_type": "code",
      "source": [
        "import numpy as np\n",
        "import matplotlib.pyplot as plt\n",
        "\n",
        "# Extract the two most important features\n",
        "X = df[['thalach', 'ca']]\n",
        "y = df['target']\n",
        "\n",
        "# Train the random forest classifier on the entire dataset\n",
        "rfc = RandomForestClassifier(n_estimators=100, max_depth=10, random_state=42)\n",
        "rfc.fit(X, y)\n",
        "\n",
        "# Create a meshgrid of points covering the range of the two features\n",
        "xx, yy = np.meshgrid(np.arange(X.iloc[:, 0].min() - 1, X.iloc[:, 0].max() + 1, 0.1),\n",
        "                     np.arange(X.iloc[:, 1].min() - 1, X.iloc[:, 1].max() + 1, 0.1))\n",
        "\n",
        "# Predict class labels for the grid points\n",
        "Z = rfc.predict(np.c_[xx.ravel(), yy.ravel()])\n",
        "Z = Z.reshape(xx.shape)\n",
        "\n",
        "# Plot the scatter plot of the two features with points colored according to class labels\n",
        "plt.scatter(X.iloc[:, 0], X.iloc[:, 1], c=y, cmap='coolwarm')\n",
        "plt.xlabel('Maximum Heart Rate Achieved')\n",
        "plt.ylabel('Number of Major Vessels Colored by Fluoroscopy')\n",
        "plt.title('Scatter Plot of Two Most Important Features')\n",
        "\n",
        "# Plot the decision boundaries\n",
        "plt.contourf(xx, yy, Z, alpha=0.4, cmap='coolwarm')\n",
        "plt.colorbar()\n",
        "plt.show()\n"
      ],
      "metadata": {
        "colab": {
          "base_uri": "https://localhost:8080/",
          "height": 508
        },
        "id": "VlnstovSREQI",
        "outputId": "0398ee63-1f2a-4d79-95b8-087cdba3b27f"
      },
      "execution_count": 11,
      "outputs": [
        {
          "output_type": "stream",
          "name": "stderr",
          "text": [
            "/usr/local/lib/python3.9/dist-packages/sklearn/base.py:439: UserWarning: X does not have valid feature names, but RandomForestClassifier was fitted with feature names\n",
            "  warnings.warn(\n"
          ]
        },
        {
          "output_type": "display_data",
          "data": {
            "text/plain": [
              "<Figure size 640x480 with 2 Axes>"
            ],
            "image/png": "[encoded data removed]"
          },
          "metadata": {}
        }
      ]
    },
    {
      "cell_type": "markdown",
      "source": [
        "###In this plot, the blue regions represent the predicted class 0 (no heart disease), and the red regions represent the predicted class 1 (heart disease). The decision boundaries are the regions where the color changes from blue to red (or vice versa), indicating the point where the model is more confident in one class over the other.\n",
        "\n",
        "###The decision boundaries show that the random forest classifier has learned a reasonably complex decision boundary, which separates the two classes with some degree of accuracy. However, the scatter plot still shows some overlap between the two classes, indicating that the classification task is challenging, and there are limitations to the model's ability to predict heart disease risk accurately. Overall, the random forest classifier can provide some insights into the most important features for predicting heart disease risk and may be useful for identifying patients who are at higher risk of developing the condition."
      ],
      "metadata": {
        "id": "WteWoYPNSnwu"
      }
    },
    {
      "cell_type": "markdown",
      "source": [
        "###The random forest classifier can provide valuable insights into the most important features for predicting heart disease risk. In this analysis, the model identified the maximum heart rate achieved and the number of major vessels colored by fluoroscopy as the two most important features for predicting heart disease risk. This suggests that these two variables are essential for identifying patients who are at higher risk of developing heart disease and may be useful for screening patients who require more detailed assessments or interventions.\n",
        "\n",
        "###However, there are some limitations to the model's ability to predict heart disease risk accurately. The scatter plot shows that there is still some overlap between the two classes, indicating that the classification task is challenging, and the model may not be able to distinguish between patients with and without heart disease accurately in all cases. Additionally, the decision boundaries are somewhat complex, indicating that the model requires a reasonably large number of features to make accurate predictions. This complexity can make it challenging to interpret the model and may reduce its generalizability to new datasets or patient populations.\n",
        "\n",
        "###Moreover, the model's accuracy and performance depend on the quality of the input data and the features selected for analysis. If important variables are missing or not adequately represented in the dataset, the model's performance may be compromised, leading to inaccurate predictions or misinterpretation of the results.\n",
        "\n",
        "###Overall, the random forest classifier can provide valuable insights into the most important features for predicting heart disease risk and may be useful for screening patients who require further assessment or intervention. However, its limitations in accuracy, interpretability, and generalizability must be taken into account when interpreting the results and making decisions based on the model's predictions."
      ],
      "metadata": {
        "id": "TOPlIbezS6-o"
      }
    },
    {
      "cell_type": "code",
      "source": [
        "X_train.columns"
      ],
      "metadata": {
        "colab": {
          "base_uri": "https://localhost:8080/"
        },
        "id": "1frdQPQZRigU",
        "outputId": "164181ea-d211-47d3-e6a6-784309f4a7a5"
      },
      "execution_count": 12,
      "outputs": [
        {
          "output_type": "execute_result",
          "data": {
            "text/plain": [
              "Index(['age', 'sex', 'cp', 'trestbps', 'chol', 'fbs', 'restecg', 'thalach',\n",
              "       'exang', 'oldpeak', 'slope', 'ca', 'thal'],\n",
              "      dtype='object')"
            ]
          },
          "metadata": {},
          "execution_count": 12
        }
      ]
    },
    {
      "cell_type": "code",
      "source": [],
      "metadata": {
        "id": "IUwy6GqnVCmp"
      },
      "execution_count": null,
      "outputs": []
    }
  ]
}